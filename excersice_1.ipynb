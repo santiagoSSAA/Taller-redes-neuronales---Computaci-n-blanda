{
  "nbformat": 4,
  "nbformat_minor": 0,
  "metadata": {
    "colab": {
      "name": "Taller Redes neuronales - Computación blanda.ipynb",
      "provenance": [],
      "collapsed_sections": []
    },
    "kernelspec": {
      "name": "python3",
      "display_name": "Python 3"
    }
  },
  "cells": [
    {
      "cell_type": "markdown",
      "metadata": {
        "id": "T_X2wdWSEKx0"
      },
      "source": [
        "# Taller 2"
      ]
    },
    {
      "cell_type": "markdown",
      "metadata": {
        "id": "l536AdGTEV9d"
      },
      "source": [
        "Perceptrón"
      ]
    },
    {
      "cell_type": "markdown",
      "metadata": {
        "id": "hAJWPCJ2EcjN"
      },
      "source": [
        "1.   Importar paquetes necesarios\n"
      ]
    },
    {
      "cell_type": "code",
      "metadata": {
        "id": "Nhfnh8jiFfUV"
      },
      "source": [
        "import numpy as np\n",
        "import matplotlib.pyplot as plt"
      ],
      "execution_count": 2,
      "outputs": []
    },
    {
      "cell_type": "markdown",
      "metadata": {
        "id": "Qf6ZuhmhEjwG"
      },
      "source": [
        "2.    Definir clase perceptrón"
      ]
    },
    {
      "cell_type": "markdown",
      "metadata": {
        "id": "DF2vIiguF8nx"
      },
      "source": [
        "\n",
        "\n",
        "1. Inicializar el perceptrón\n",
        "\n",
        "2. Propagación del perceptrón\n",
        "\n",
        "  Cálculo de salida: $y = step(\\sum_{i} w_i \\cdot x_i )$\n",
        "\n",
        "3. Aprendizaje o cálculo de pesos\n",
        "\n",
        "  Para el caso de un perceptrón con una función de activación tipo step: $w_i = w_i + \\alpha \\cdot (y_d - y) \\cdot x_i$\n"
      ]
    },
    {
      "cell_type": "code",
      "metadata": {
        "id": "lY0ZuI2xFj0G"
      },
      "source": [
        "class perceptron:\n",
        "    def __init__(self, n):\n",
        "        self.pesos = np.random.randn(n)\n",
        "        self.n = n\n",
        "\n",
        "    def propagacion(self, entradas):\n",
        "        self.salida = 1 * (self.pesos.dot(entradas) > 0)\n",
        "        self.entradas = entradas\n",
        "\n",
        "    def actualización(self, alfa, salida):\n",
        "        for i in range(0, self.n):\n",
        "            self.pesos[i] = (\n",
        "                self.pesos[i] + alfa*(salida - self.salida) * self.entradas[i])"
      ],
      "execution_count": null,
      "outputs": []
    },
    {
      "cell_type": "markdown",
      "metadata": {
        "id": "kY1PrnFpEqoX"
      },
      "source": [
        "3.    Creación del objeto, un perceptrón de tres entradas"
      ]
    },
    {
      "cell_type": "code",
      "metadata": {
        "id": "0D3sSB2Qk-6Z"
      },
      "source": [
        "perceptron_tres_entradas = perceptron(3)"
      ],
      "execution_count": null,
      "outputs": []
    },
    {
      "cell_type": "code",
      "metadata": {
        "id": "2sEZYKemlE5w",
        "outputId": "9a770525-dfea-4a49-d2cb-8c6b705d517b",
        "colab": {
          "base_uri": "https://localhost:8080/",
          "height": 34
        }
      },
      "source": [
        "perceptron_tres_entradas.pesos"
      ],
      "execution_count": null,
      "outputs": [
        {
          "output_type": "execute_result",
          "data": {
            "text/plain": [
              "array([-0.85176754,  1.29833736, -1.53047033])"
            ]
          },
          "metadata": {
            "tags": []
          },
          "execution_count": 11
        }
      ]
    },
    {
      "cell_type": "markdown",
      "metadata": {
        "id": "VLBqD4wqEvn_"
      },
      "source": [
        "4.    Entrenamiento hacia adelante"
      ]
    },
    {
      "cell_type": "code",
      "metadata": {
        "id": "2AjSqqqolcEk",
        "outputId": "43d871a0-ef68-4fd8-b55f-e80646ab91fc",
        "colab": {
          "base_uri": "https://localhost:8080/",
          "height": 34
        }
      },
      "source": [
        "perceptron_tres_entradas.propagacion([1,0,1])\n",
        "perceptron_tres_entradas.salida"
      ],
      "execution_count": null,
      "outputs": [
        {
          "output_type": "execute_result",
          "data": {
            "text/plain": [
              "0"
            ]
          },
          "metadata": {
            "tags": []
          },
          "execution_count": 12
        }
      ]
    },
    {
      "cell_type": "markdown",
      "metadata": {
        "id": "df7u-ueamgUm"
      },
      "source": [
        "5. Actualización"
      ]
    },
    {
      "cell_type": "code",
      "metadata": {
        "id": "u73G9OCXmiRV"
      },
      "source": [
        "perceptron_tres_entradas.actualización(0.5,1)"
      ],
      "execution_count": null,
      "outputs": []
    },
    {
      "cell_type": "code",
      "metadata": {
        "id": "DPH_LeYon6kw",
        "outputId": "903e61d7-4179-4c25-a237-8ae44c5cf309",
        "colab": {
          "base_uri": "https://localhost:8080/",
          "height": 34
        }
      },
      "source": [
        "perceptron_tres_entradas.pesos"
      ],
      "execution_count": null,
      "outputs": [
        {
          "output_type": "execute_result",
          "data": {
            "text/plain": [
              "array([ 0.64823246,  1.29833736, -0.03047033])"
            ]
          },
          "metadata": {
            "tags": []
          },
          "execution_count": 19
        }
      ]
    },
    {
      "cell_type": "markdown",
      "metadata": {
        "id": "Cp0NA3RAoazU"
      },
      "source": [
        "# EJERCICIO 1"
      ]
    },
    {
      "cell_type": "code",
      "metadata": {
        "id": "7ySHN0HHP0-5",
        "outputId": "87094014-aa21-40f3-d524-e262b3bc46c8",
        "colab": {
          "base_uri": "https://localhost:8080/",
          "height": 385
        }
      },
      "source": [
        "class perceptron_1:\n",
        "    def __init__(self, n, pesos=\"\"):\n",
        "        self.pesos = np.random.randn(n) if isinstance(pesos,str) else pesos\n",
        "        self.n = n\n",
        "\n",
        "    def propagacion(self, entradas, umbral=0):\n",
        "        self.salida = 1 * (self.pesos.dot(entradas) > umbral)\n",
        "        self.entradas = entradas\n",
        "\n",
        "    def actualización(self, alfa, salida):\n",
        "        for i in range(self.n):\n",
        "            self.pesos[i] = (\n",
        "                self.pesos[i] + alfa*(salida - self.salida) * self.entradas[i])\n",
        "\n",
        "ejemplos = np.array([[0,0,0],[0,2,0],[1,1,0],[1,2,1],[2,1,1],[2,2,1]])\n",
        "pesos = np.array([-3,4,1])\n",
        "umbral = pesos[0] * -1\n",
        "\"\"\"\n",
        "red_ejercicio_1 = perceptron_1(2, pesos[1::])\n",
        "\"\"\"\n",
        "red_ejercicio_1 = perceptron_1(2)\n",
        "\n",
        "grad_pesos = [red_ejercicio_1.pesos]\n",
        "for epoca in range(0,100):\n",
        "    for i in range(0,len(ejemplos)):\n",
        "        red_ejercicio_1.propagacion(ejemplos[i,0:2], umbral)\n",
        "        red_ejercicio_1.actualización(0.1,ejemplos[i,2])\n",
        "        grad_pesos = np.concatenate(\n",
        "            (grad_pesos, [red_ejercicio_1.pesos]),axis=0)\n",
        "\n",
        "\n",
        "plt.plot(grad_pesos[:,0],'k')\n",
        "plt.plot(grad_pesos[:,1],'r')\n",
        "\n",
        "plt.show()\n",
        "\n",
        "for i in range(len(ejemplos)):\n",
        "    red_ejercicio_1.propagacion(ejemplos[i,0:2], umbral)\n",
        "    if red_ejercicio_1.salida == ejemplos[i,2]:\n",
        "        print(\"coordenada: {} , Grupo {} - Bien\".format(\n",
        "            ejemplos[i,0:2], \"C1\" if red_ejercicio_1.salida == 0 else \"C2\"))\n",
        "    else:\n",
        "        print(\"coordenada: {} , Grupo {} - Mal\".format(\n",
        "            ejemplos[i,0:2], \"C1\" if red_ejercicio_1.salida == 0 else \"C2\"))\n",
        "\n",
        "\n",
        "print(\"peso w1: {} - peso w2: {} - error: {}\".format(\n",
        "    red_ejercicio_1.pesos[0],red_ejercicio_1.pesos[1],\n",
        "    abs(red_ejercicio_1.pesos[0]-red_ejercicio_1.pesos[1])))"
      ],
      "execution_count": 3,
      "outputs": [
        {
          "output_type": "display_data",
          "data": {
            "image/png": "[encoded data removed]",
            "text/plain": [
              "<Figure size 432x288 with 1 Axes>"
            ]
          },
          "metadata": {
            "tags": [],
            "needs_background": "light"
          }
        },
        {
          "output_type": "stream",
          "text": [
            "coordenada: [0 0] , Grupo C1 - Bien\n",
            "coordenada: [0 2] , Grupo C1 - Bien\n",
            "coordenada: [1 1] , Grupo C1 - Bien\n",
            "coordenada: [1 2] , Grupo C2 - Bien\n",
            "coordenada: [2 1] , Grupo C2 - Bien\n",
            "coordenada: [2 2] , Grupo C2 - Bien\n",
            "peso w1: 0.9634477739568903 - peso w2: 1.4372412849307383 - error: 0.47379351097384803\n"
          ],
          "name": "stdout"
        }
      ]
    }
  ]
}